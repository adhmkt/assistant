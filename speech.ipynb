{
 "cells": [
  {
   "cell_type": "code",
   "execution_count": 4,
   "metadata": {},
   "outputs": [
    {
     "ename": "SyntaxError",
     "evalue": "invalid syntax (2848701653.py, line 1)",
     "output_type": "error",
     "traceback": [
      "\u001b[0;36m  Cell \u001b[0;32mIn[4], line 1\u001b[0;36m\u001b[0m\n\u001b[0;31m    global blob = '''\u001b[0m\n\u001b[0m                ^\u001b[0m\n\u001b[0;31mSyntaxError\u001b[0m\u001b[0;31m:\u001b[0m invalid syntax\n"
     ]
    }
   ],
   "source": [
    "blob = '''\n",
    "A Maré Crescente da IA em Cibersegurança: O Que Você Precisa Saber.\n",
    "\n",
    "\n",
    "\n",
    "Em um mundo onde a tecnologia toca quase todos os aspectos de nossas vidas, entender a evolução da cibersegurança é mais crucial do que nunca. Um recente alerta do Centro Nacional de Segurança Cibernética (NCSC) do Reino Unido lançou luz sobre uma nova fronteira digital que pode afetar todos nós: o papel da Inteligência Artificial (IA) no cibercrime.\n",
    "\n",
    "A Espada de Dois Gumes da IA\n",
    "IA, uma vez um termo que evocava imagens de robôs futuristas e filmes de ficção científica, integrou-se de forma imperceptível em nossas rotinas diárias. Desde assistentes de voz em nossos telefones até chatbots que fornecem atendimento ao cliente, as capacidades da IA são vastas e variadas. No entanto, é exatamente esse poder que atraiu a atenção de cibercriminosos, segundo o NCSC.\n",
    "\n",
    "A agência, um pilar da defesa digital do Reino Unido, soou o alarme sobre como a IA generativa — tecnologia capaz de criar textos, clipes de voz e imagens convincentes — poderia tornar os golpes de phishing muito mais sofisticados e difíceis de detectar. Phishing, para aqueles que não estão familiarizados, envolve enganar indivíduos para que entreguem informações sensíveis, como senhas ou detalhes bancários, muitas vezes através de e-mails ou mensagens aparentemente legítimos.\n",
    "\n",
    "Por Que Isso Importa Para Você\n",
    "Imagine receber um e-mail que parece ser do seu banco, pedindo para você clicar em um link para redefinir sua senha. No passado, você poderia ter identificado um golpe por meio de frases estranhas ou erros de ortografia. Mas com a IA, essas mensagens agora podem ser indistinguivelmente autênticas, elevando os riscos na contínua batalha contra o cibercrime.\n",
    "\n",
    "O relatório do NCSC não destaca apenas um possível aumento nas tentativas de phishing. Ele também sugere um aumento nos ataques de ransomware, onde hackers bloqueiam o acesso aos arquivos de um indivíduo ou organização e exigem pagamento para liberá-los. Notavelmente, tais ataques já impactaram instituições importantes como a Biblioteca Britânica e o Royal Mail.\n",
    "\n",
    "Um Chamado à Ação\n",
    "Este não é apenas um problema para especialistas em tecnologia ou agências governamentais resolverem. É um alerta para todos. A sofisticação da IA significa que ninguém está imune, independentemente de sua familiaridade com a tecnologia. A boa notícia, porém, é que a IA não é apenas uma ferramenta para atacantes. Ela também está sendo usada para criar sistemas de defesa mais robustos, capazes de detectar e combater ameaças cibernéticas com mais eficiência do que nunca.\n",
    "\n",
    "Olhando Para o Futuro\n",
    "Em resposta a essas ameaças emergentes, o governo do Reino Unido introduziu novas diretrizes instando as empresas a reforçarem suas defesas contra ransomware. Mas além das medidas institucionais, há um papel para os indivíduos também. Manter-se informado, ser cauteloso sobre os e-mails e mensagens em que confiamos e entender os conceitos básicos de segurança digital pode fazer uma diferença significativa.\n",
    "\n",
    "A paisagem da cibersegurança está mudando, impulsionada pelos avanços na IA. Enquanto as ameaças são reais e evolutivas, também são os meios de combatê-las. Ao permanecer vigilantes e informados, todos podemos desempenhar um papel na proteção de nossas vidas digitais contra as sofisticadas ameaças cibernéticas de amanhã.\n",
    "\n",
    "Lembre-se, na era digital, conhecimento não é apenas poder — é proteção.\n",
    "'''"
   ]
  },
  {
   "cell_type": "code",
   "execution_count": 10,
   "metadata": {},
   "outputs": [
    {
     "name": "stderr",
     "output_type": "stream",
     "text": [
      "/var/folders/0m/j17z1hfn6h18bx6q6dyhs6g80000gp/T/ipykernel_28971/384434188.py:31: DeprecationWarning: Due to a bug, this method doesn't actually stream the response content, `.with_streaming_response.method()` should be used instead\n",
      "  response.stream_to_file(speech_file_path)\n"
     ]
    }
   ],
   "source": [
    "from pathlib import Path\n",
    "from openai import OpenAI\n",
    "client = OpenAI()\n",
    "\n",
    "blob = '''\n",
    "\n",
    "\n",
    "Google Fotos: Este aplicativo usa modelos de visão para organizar suas fotos, reconhecer rostos e até sugerir edições, fazendo parecer que tem mente própria.\n",
    "Google Lens: Já apontou seu telefone para uma flor ou um monumento e obteve informações instantâneas sobre ele? Isso é o Google Lens, usando modelos de visão para fechar a lacuna entre o mundo real e a internet.\n",
    "Carros Autônomos: Estes veículos futuristas dependem de modelos de visão para navegar pelo mundo, tomando decisões em frações de segundo que garantem a segurança na estrada.\n",
    "Face ID: Desbloquear seu telefone com apenas um olhar não é pouca coisa. Modelos de visão trabalham nos bastidores para tornar esse recurso de segurança sem costura possível.\n",
    "Por Que Você Deveria Se Importar?\n",
    "Entender a tecnologia por trás dos seus aplicativos e dispositivos favoritos pode ser empoderador. Isso não apenas desmistifica a magia, mas também ajuda a apreciar a incrível engenhosidade envolvida na criação desses recursos. Então, da próxima vez que você desbloquear seu telefone com um olhar ou procurar fotos da sua viagem à praia no último verão, lembre-se da sofisticada dança de dados e algoritmos que torna tudo possível.\n",
    "\n",
    "Em um mundo cada vez mais dependente de IA, os modelos de visão computacional se destacam como um testemunho da engenhosidade humana, transformando ficção científica em realidade cotidiana. Então, aqui está para a tecnologia invisível que torna nossas vidas digitais mais suaves, um pixel de cada vez!\n",
    "\n",
    "Assim, enquanto navegamos por este mundo digital cada vez mais avançado, vale a pena dar uma pausa e reconhecer a magia que opera silenciosamente ao fundo. Os modelos de visão computacional não são apenas um feito de engenharia; eles são uma ponte para um futuro onde a tecnologia amplia nossa capacidade de interagir com o mundo de maneiras que antes só podíamos imaginar.\n",
    "\n",
    "Da próxima vez que você usar um aplicativo que categorize suas fotos automaticamente, traduza textos a partir de uma imagem ou permita que você controle seu dispositivo com um simples olhar, lembre-se da complexidade e da beleza da tecnologia por trás dessas ações. Os modelos de visão computacional estão, sem dúvida, tornando nosso mundo mais conectado, mais intuitivo e, de certa forma, mais humano.\n",
    "\n",
    "Portanto, enquanto avançamos para essa nova era digital, abracemos as maravilhas da tecnologia de visão computacional com admiração e gratidão. Ela não só facilita nossas vidas cotidianas mas também abre portas para descobertas e inovações que ainda estão por vir. Aqui está para um futuro onde a tecnologia continua a surpreender e encantar, um pixel de cada vez.\n",
    "'''\n",
    "\n",
    "speech_file_path = \"static/speech2.mp3\"\n",
    "response = client.audio.speech.create(\n",
    "  model=\"tts-1\",\n",
    "  voice=\"onyx\",\n",
    "  input=blob\n",
    ")\n",
    "\n",
    "response.stream_to_file(speech_file_path)"
   ]
  }
 ],
 "metadata": {
  "kernelspec": {
   "display_name": "venv",
   "language": "python",
   "name": "python3"
  },
  "language_info": {
   "codemirror_mode": {
    "name": "ipython",
    "version": 3
   },
   "file_extension": ".py",
   "mimetype": "text/x-python",
   "name": "python",
   "nbconvert_exporter": "python",
   "pygments_lexer": "ipython3",
   "version": "3.11.5"
  }
 },
 "nbformat": 4,
 "nbformat_minor": 2
}
